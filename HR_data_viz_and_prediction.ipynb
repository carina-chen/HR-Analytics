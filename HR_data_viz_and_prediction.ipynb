{
 "cells": [
  {
   "cell_type": "markdown",
   "metadata": {},
   "source": [
    "# Data visualization, analysis, and prediction\n",
    "Dataset from HR data ( https://www.kaggle.com/arashnic/hr-analytics-job-change-of-data-scientists )"
   ]
  },
  {
   "cell_type": "code",
   "execution_count": 1,
   "metadata": {},
   "outputs": [],
   "source": [
    "import numpy as np # linear algebra\n",
    "import pandas as pd # data processing, CSV file I/O (e.g. pd.read_csv)\n",
    "import warnings\n",
    "warnings.filterwarnings(\"ignore\")        \n",
    "import matplotlib\n",
    "import matplotlib.pyplot as plt\n",
    "import matplotlib.ticker as mtick\n",
    "import matplotlib.gridspec as grid_spec\n",
    "import seaborn as sns\n",
    "import squarify\n",
    "from sklearn import preprocessing\n",
    "from sklearn.svm import SVC\n",
    "from sklearn.pipeline import make_pipeline\n",
    "from sklearn.preprocessing import StandardScaler\n",
    "from sklearn.model_selection import train_test_split\n",
    "from sklearn.metrics import confusion_matrix, classification_report, accuracy_score\n",
    "\n",
    "\n",
    "plt.rcParams[\"font.family\"] = \"serif\"\n",
    "plt.rcParams['figure.dpi'] = 200"
   ]
  },
  {
   "cell_type": "code",
   "execution_count": 2,
   "metadata": {},
   "outputs": [
    {
     "name": "stdout",
     "output_type": "stream",
     "text": [
      "./data/aug_test.csv\n",
      "./data/aug_train.csv\n",
      "./data/sample_submission.csv\n"
     ]
    }
   ],
   "source": [
    "# list data in da folder\n",
    "import os\n",
    "for dirname, _, filenames in os.walk('./data/'):\n",
    "    for filename in filenames:\n",
    "        print(os.path.join(dirname, filename)) "
   ]
  },
  {
   "cell_type": "code",
   "execution_count": 3,
   "metadata": {},
   "outputs": [
    {
     "data": {
      "text/html": [
       "<div>\n",
       "<style scoped>\n",
       "    .dataframe tbody tr th:only-of-type {\n",
       "        vertical-align: middle;\n",
       "    }\n",
       "\n",
       "    .dataframe tbody tr th {\n",
       "        vertical-align: top;\n",
       "    }\n",
       "\n",
       "    .dataframe thead th {\n",
       "        text-align: right;\n",
       "    }\n",
       "</style>\n",
       "<table border=\"1\" class=\"dataframe\">\n",
       "  <thead>\n",
       "    <tr style=\"text-align: right;\">\n",
       "      <th></th>\n",
       "      <th>enrollee_id</th>\n",
       "      <th>city</th>\n",
       "      <th>city_development_index</th>\n",
       "      <th>gender</th>\n",
       "      <th>relevent_experience</th>\n",
       "      <th>enrolled_university</th>\n",
       "      <th>education_level</th>\n",
       "      <th>major_discipline</th>\n",
       "      <th>experience</th>\n",
       "      <th>company_size</th>\n",
       "      <th>company_type</th>\n",
       "      <th>last_new_job</th>\n",
       "      <th>training_hours</th>\n",
       "      <th>target</th>\n",
       "    </tr>\n",
       "  </thead>\n",
       "  <tbody>\n",
       "    <tr>\n",
       "      <th>0</th>\n",
       "      <td>8949</td>\n",
       "      <td>city_103</td>\n",
       "      <td>0.920</td>\n",
       "      <td>Male</td>\n",
       "      <td>Has relevent experience</td>\n",
       "      <td>no_enrollment</td>\n",
       "      <td>Graduate</td>\n",
       "      <td>STEM</td>\n",
       "      <td>&gt;20</td>\n",
       "      <td>NaN</td>\n",
       "      <td>NaN</td>\n",
       "      <td>1</td>\n",
       "      <td>36</td>\n",
       "      <td>1.0</td>\n",
       "    </tr>\n",
       "    <tr>\n",
       "      <th>1</th>\n",
       "      <td>29725</td>\n",
       "      <td>city_40</td>\n",
       "      <td>0.776</td>\n",
       "      <td>Male</td>\n",
       "      <td>No relevent experience</td>\n",
       "      <td>no_enrollment</td>\n",
       "      <td>Graduate</td>\n",
       "      <td>STEM</td>\n",
       "      <td>15</td>\n",
       "      <td>50-99</td>\n",
       "      <td>Pvt Ltd</td>\n",
       "      <td>&gt;4</td>\n",
       "      <td>47</td>\n",
       "      <td>0.0</td>\n",
       "    </tr>\n",
       "    <tr>\n",
       "      <th>2</th>\n",
       "      <td>11561</td>\n",
       "      <td>city_21</td>\n",
       "      <td>0.624</td>\n",
       "      <td>NaN</td>\n",
       "      <td>No relevent experience</td>\n",
       "      <td>Full time course</td>\n",
       "      <td>Graduate</td>\n",
       "      <td>STEM</td>\n",
       "      <td>5</td>\n",
       "      <td>NaN</td>\n",
       "      <td>NaN</td>\n",
       "      <td>never</td>\n",
       "      <td>83</td>\n",
       "      <td>0.0</td>\n",
       "    </tr>\n",
       "    <tr>\n",
       "      <th>3</th>\n",
       "      <td>33241</td>\n",
       "      <td>city_115</td>\n",
       "      <td>0.789</td>\n",
       "      <td>NaN</td>\n",
       "      <td>No relevent experience</td>\n",
       "      <td>NaN</td>\n",
       "      <td>Graduate</td>\n",
       "      <td>Business Degree</td>\n",
       "      <td>&lt;1</td>\n",
       "      <td>NaN</td>\n",
       "      <td>Pvt Ltd</td>\n",
       "      <td>never</td>\n",
       "      <td>52</td>\n",
       "      <td>1.0</td>\n",
       "    </tr>\n",
       "    <tr>\n",
       "      <th>4</th>\n",
       "      <td>666</td>\n",
       "      <td>city_162</td>\n",
       "      <td>0.767</td>\n",
       "      <td>Male</td>\n",
       "      <td>Has relevent experience</td>\n",
       "      <td>no_enrollment</td>\n",
       "      <td>Masters</td>\n",
       "      <td>STEM</td>\n",
       "      <td>&gt;20</td>\n",
       "      <td>50-99</td>\n",
       "      <td>Funded Startup</td>\n",
       "      <td>4</td>\n",
       "      <td>8</td>\n",
       "      <td>0.0</td>\n",
       "    </tr>\n",
       "    <tr>\n",
       "      <th>5</th>\n",
       "      <td>21651</td>\n",
       "      <td>city_176</td>\n",
       "      <td>0.764</td>\n",
       "      <td>NaN</td>\n",
       "      <td>Has relevent experience</td>\n",
       "      <td>Part time course</td>\n",
       "      <td>Graduate</td>\n",
       "      <td>STEM</td>\n",
       "      <td>11</td>\n",
       "      <td>NaN</td>\n",
       "      <td>NaN</td>\n",
       "      <td>1</td>\n",
       "      <td>24</td>\n",
       "      <td>1.0</td>\n",
       "    </tr>\n",
       "    <tr>\n",
       "      <th>6</th>\n",
       "      <td>28806</td>\n",
       "      <td>city_160</td>\n",
       "      <td>0.920</td>\n",
       "      <td>Male</td>\n",
       "      <td>Has relevent experience</td>\n",
       "      <td>no_enrollment</td>\n",
       "      <td>High School</td>\n",
       "      <td>NaN</td>\n",
       "      <td>5</td>\n",
       "      <td>50-99</td>\n",
       "      <td>Funded Startup</td>\n",
       "      <td>1</td>\n",
       "      <td>24</td>\n",
       "      <td>0.0</td>\n",
       "    </tr>\n",
       "    <tr>\n",
       "      <th>7</th>\n",
       "      <td>402</td>\n",
       "      <td>city_46</td>\n",
       "      <td>0.762</td>\n",
       "      <td>Male</td>\n",
       "      <td>Has relevent experience</td>\n",
       "      <td>no_enrollment</td>\n",
       "      <td>Graduate</td>\n",
       "      <td>STEM</td>\n",
       "      <td>13</td>\n",
       "      <td>&lt;10</td>\n",
       "      <td>Pvt Ltd</td>\n",
       "      <td>&gt;4</td>\n",
       "      <td>18</td>\n",
       "      <td>1.0</td>\n",
       "    </tr>\n",
       "    <tr>\n",
       "      <th>8</th>\n",
       "      <td>27107</td>\n",
       "      <td>city_103</td>\n",
       "      <td>0.920</td>\n",
       "      <td>Male</td>\n",
       "      <td>Has relevent experience</td>\n",
       "      <td>no_enrollment</td>\n",
       "      <td>Graduate</td>\n",
       "      <td>STEM</td>\n",
       "      <td>7</td>\n",
       "      <td>50-99</td>\n",
       "      <td>Pvt Ltd</td>\n",
       "      <td>1</td>\n",
       "      <td>46</td>\n",
       "      <td>1.0</td>\n",
       "    </tr>\n",
       "    <tr>\n",
       "      <th>9</th>\n",
       "      <td>699</td>\n",
       "      <td>city_103</td>\n",
       "      <td>0.920</td>\n",
       "      <td>NaN</td>\n",
       "      <td>Has relevent experience</td>\n",
       "      <td>no_enrollment</td>\n",
       "      <td>Graduate</td>\n",
       "      <td>STEM</td>\n",
       "      <td>17</td>\n",
       "      <td>10000+</td>\n",
       "      <td>Pvt Ltd</td>\n",
       "      <td>&gt;4</td>\n",
       "      <td>123</td>\n",
       "      <td>0.0</td>\n",
       "    </tr>\n",
       "  </tbody>\n",
       "</table>\n",
       "</div>"
      ],
      "text/plain": [
       "   enrollee_id      city  city_development_index gender  \\\n",
       "0         8949  city_103                   0.920   Male   \n",
       "1        29725   city_40                   0.776   Male   \n",
       "2        11561   city_21                   0.624    NaN   \n",
       "3        33241  city_115                   0.789    NaN   \n",
       "4          666  city_162                   0.767   Male   \n",
       "5        21651  city_176                   0.764    NaN   \n",
       "6        28806  city_160                   0.920   Male   \n",
       "7          402   city_46                   0.762   Male   \n",
       "8        27107  city_103                   0.920   Male   \n",
       "9          699  city_103                   0.920    NaN   \n",
       "\n",
       "       relevent_experience enrolled_university education_level  \\\n",
       "0  Has relevent experience       no_enrollment        Graduate   \n",
       "1   No relevent experience       no_enrollment        Graduate   \n",
       "2   No relevent experience    Full time course        Graduate   \n",
       "3   No relevent experience                 NaN        Graduate   \n",
       "4  Has relevent experience       no_enrollment         Masters   \n",
       "5  Has relevent experience    Part time course        Graduate   \n",
       "6  Has relevent experience       no_enrollment     High School   \n",
       "7  Has relevent experience       no_enrollment        Graduate   \n",
       "8  Has relevent experience       no_enrollment        Graduate   \n",
       "9  Has relevent experience       no_enrollment        Graduate   \n",
       "\n",
       "  major_discipline experience company_size    company_type last_new_job  \\\n",
       "0             STEM        >20          NaN             NaN            1   \n",
       "1             STEM         15        50-99         Pvt Ltd           >4   \n",
       "2             STEM          5          NaN             NaN        never   \n",
       "3  Business Degree         <1          NaN         Pvt Ltd        never   \n",
       "4             STEM        >20        50-99  Funded Startup            4   \n",
       "5             STEM         11          NaN             NaN            1   \n",
       "6              NaN          5        50-99  Funded Startup            1   \n",
       "7             STEM         13          <10         Pvt Ltd           >4   \n",
       "8             STEM          7        50-99         Pvt Ltd            1   \n",
       "9             STEM         17       10000+         Pvt Ltd           >4   \n",
       "\n",
       "   training_hours  target  \n",
       "0              36     1.0  \n",
       "1              47     0.0  \n",
       "2              83     0.0  \n",
       "3              52     1.0  \n",
       "4               8     0.0  \n",
       "5              24     1.0  \n",
       "6              24     0.0  \n",
       "7              18     1.0  \n",
       "8              46     1.0  \n",
       "9             123     0.0  "
      ]
     },
     "execution_count": 3,
     "metadata": {},
     "output_type": "execute_result"
    }
   ],
   "source": [
    "train = pd.read_csv('./data/aug_train.csv')\n",
    "test = pd.read_csv('./data/aug_test.csv')\n",
    "train.head(10)"
   ]
  },
  {
   "cell_type": "markdown",
   "metadata": {},
   "source": [
    "## *Features:* \n",
    "- enrollee_id : Unique ID for candidate\n",
    "\n",
    "- city: City code\n",
    "\n",
    "- city_ development _index : Developement index of the city (scaled)\n",
    "\n",
    "- gender: Gender of candidate\n",
    "\n",
    "- relevent_experience: Relevant experience of candidate\n",
    "\n",
    "- enrolled_university: Type of University course enrolled if any\n",
    "\n",
    "- education_level: Education level of candidate\n",
    "\n",
    "- major_discipline :Education major discipline of candidate\n",
    "\n",
    "- experience: Candidate total experience in years\n",
    "\n",
    "- company_size: No of employees in current employer's company\n",
    "\n",
    "- company_type : Type of current employer\n",
    "\n",
    "- lastnewjob: Difference in years between previous job and current job\n",
    "\n",
    "- training_hours: training hours completed\n",
    "\n",
    "- target: 0 – Not looking for job change, 1 – Looking for a job change"
   ]
  },
  {
   "cell_type": "markdown",
   "metadata": {},
   "source": [
    "## Dealing with missing values\n"
   ]
  },
  {
   "cell_type": "code",
   "execution_count": 4,
   "metadata": {},
   "outputs": [
    {
     "data": {
      "text/plain": [
       "enrollee_id               0.000000\n",
       "city                      0.000000\n",
       "city_development_index    0.000000\n",
       "gender                    0.235306\n",
       "relevent_experience       0.000000\n",
       "enrolled_university       0.020148\n",
       "education_level           0.024011\n",
       "major_discipline          0.146832\n",
       "experience                0.003393\n",
       "company_size              0.309949\n",
       "company_type              0.320493\n",
       "last_new_job              0.022080\n",
       "training_hours            0.000000\n",
       "target                    0.000000\n",
       "dtype: float64"
      ]
     },
     "execution_count": 4,
     "metadata": {},
     "output_type": "execute_result"
    }
   ],
   "source": [
    "# Check for missing values\n",
    "train.isna().sum()/len(train)"
   ]
  },
  {
   "cell_type": "markdown",
   "metadata": {},
   "source": [
    "**as we can see, most of the variables are categorical variables, and the dataset is not balanced.**\n",
    "\n",
    "dealing with missing values can often be subjective. in this exercise, I'm going to impute missing data with forward fill"
   ]
  },
  {
   "cell_type": "code",
   "execution_count": 5,
   "metadata": {},
   "outputs": [],
   "source": [
    "train[\"gender\"] = train[\"gender\"].fillna(method=\"pad\")\n",
    "train[\"enrolled_university\"] = train[\"enrolled_university\"].fillna(method=\"pad\")\n",
    "train[\"education_level\"] = train[\"education_level\"].fillna(method=\"pad\")\n",
    "train[\"education_level\"] = train[\"education_level\"].fillna(method=\"pad\")\n",
    "train[\"major_discipline\"] = train[\"major_discipline\"].fillna(method=\"pad\")\n",
    "train[\"experience\"] = train[\"experience\"].fillna(method=\"pad\")\n",
    "train[\"company_size\"] = train[\"company_size\"].fillna(method=\"pad\")\n",
    "train[\"company_type\"] = train[\"company_type\"].fillna(method=\"pad\")\n",
    "train[\"last_new_job\"] = train[\"last_new_job\"].fillna(method=\"pad\")"
   ]
  },
  {
   "cell_type": "markdown",
   "metadata": {},
   "source": [
    "## Data Visualization"
   ]
  },
  {
   "cell_type": "code",
   "execution_count": 6,
   "metadata": {},
   "outputs": [
    {
     "data": {
      "text/html": [
       "<div>\n",
       "<style scoped>\n",
       "    .dataframe tbody tr th:only-of-type {\n",
       "        vertical-align: middle;\n",
       "    }\n",
       "\n",
       "    .dataframe tbody tr th {\n",
       "        vertical-align: top;\n",
       "    }\n",
       "\n",
       "    .dataframe thead th {\n",
       "        text-align: right;\n",
       "    }\n",
       "</style>\n",
       "<table border=\"1\" class=\"dataframe\">\n",
       "  <thead>\n",
       "    <tr style=\"text-align: right;\">\n",
       "      <th></th>\n",
       "      <th>education_level</th>\n",
       "      <th>Percentage</th>\n",
       "    </tr>\n",
       "  </thead>\n",
       "  <tbody>\n",
       "    <tr>\n",
       "      <th>Graduate</th>\n",
       "      <td>1269</td>\n",
       "      <td>61.097737</td>\n",
       "    </tr>\n",
       "    <tr>\n",
       "      <th>High School</th>\n",
       "      <td>222</td>\n",
       "      <td>10.688493</td>\n",
       "    </tr>\n",
       "    <tr>\n",
       "      <th>Masters</th>\n",
       "      <td>496</td>\n",
       "      <td>23.880597</td>\n",
       "    </tr>\n",
       "    <tr>\n",
       "      <th>Phd</th>\n",
       "      <td>54</td>\n",
       "      <td>2.599904</td>\n",
       "    </tr>\n",
       "    <tr>\n",
       "      <th>Primary School</th>\n",
       "      <td>36</td>\n",
       "      <td>1.733269</td>\n",
       "    </tr>\n",
       "  </tbody>\n",
       "</table>\n",
       "</div>"
      ],
      "text/plain": [
       "                education_level  Percentage\n",
       "Graduate                   1269   61.097737\n",
       "High School                 222   10.688493\n",
       "Masters                     496   23.880597\n",
       "Phd                          54    2.599904\n",
       "Primary School               36    1.733269"
      ]
     },
     "execution_count": 6,
     "metadata": {},
     "output_type": "execute_result"
    }
   ],
   "source": [
    "# EDUCATION LEVEL\n",
    "ed_order = ['Primary School','High School','Graduate','Masters','Phd']\n",
    "train_graph_temp_df = pd.DataFrame(train[\"education_level\"].value_counts())\n",
    "train_graph_temp_df[\"Percentage\"] = train_graph_temp_df[\"education_level\"].apply(lambda x: x/sum(train_graph_temp_df[\"education_level\"])*100).loc[ed_order]\n",
    "train_graph_temp_df = train_graph_temp_df.sort_index()\n",
    "\n",
    "test_graph_temp_df = pd.DataFrame(test[\"education_level\"].value_counts())\n",
    "test_graph_temp_df[\"Percentage\"] = test_graph_temp_df[\"education_level\"].apply(lambda x: x/sum(test_graph_temp_df[\"education_level\"])*100).loc[ed_order]\n",
    "test_graph_temp_df = test_graph_temp_df.sort_index()\n",
    "\n",
    "test_graph_temp_df"
   ]
  },
  {
   "cell_type": "code",
   "execution_count": 7,
   "metadata": {},
   "outputs": [
    {
     "data": {
      "text/plain": [
       "[Text(0, 0, 'Graduate'),\n",
       " Text(0, 0, 'High School'),\n",
       " Text(0, 0, 'Masters'),\n",
       " Text(0, 0, 'Phd'),\n",
       " Text(0, 0, 'Primary School')]"
      ]
     },
     "execution_count": 7,
     "metadata": {},
     "output_type": "execute_result"
    },
    {
     "data": {
      "image/png": "[encoded data removed]",
      "text/plain": [
       "<Figure size 432x288 with 1 Axes>"
      ]
     },
     "metadata": {
      "needs_background": "light"
     },
     "output_type": "display_data"
    }
   ],
   "source": [
    "fig, ax = plt.subplots()\n",
    "ax.bar(np.arange(len(train_graph_temp_df.index)), height=train_graph_temp_df[\"Percentage\"], zorder=3, color=\"gray\", width=0.05)\n",
    "ax.scatter(np.arange(len(train_graph_temp_df.index)), train_graph_temp_df[\"Percentage\"], zorder=3,s=200, color=\"gray\")\n",
    "ax.bar(np.arange(len(test_graph_temp_df.index))+0.4, height=test_graph_temp_df[\"Percentage\"], zorder=3, color=\"#0e4f66\", width=0.05)\n",
    "ax.scatter(np.arange(len(test_graph_temp_df.index))+0.4, test_graph_temp_df[\"Percentage\"], zorder=3,s=200, color=\"#0e4f66\")\n",
    "ax.text(-0.5, 68.5, 'Education Level', \n",
    "         fontsize=14, fontweight='bold', fontfamily='serif', color=\"#323232\")\n",
    "ax.yaxis.set_major_formatter(mtick.PercentFormatter())\n",
    "ax.yaxis.set_major_locator(mtick.MultipleLocator(10))\n",
    "ax.set_xticks(np.arange(len(train_graph_temp_df.index))+0.4 / 2)\n",
    "ax.set_xticklabels(list(train_graph_temp_df.index),rotation=0)"
   ]
  },
  {
   "cell_type": "code",
   "execution_count": 8,
   "metadata": {},
   "outputs": [
    {
     "data": {
      "text/html": [
       "<div>\n",
       "<style scoped>\n",
       "    .dataframe tbody tr th:only-of-type {\n",
       "        vertical-align: middle;\n",
       "    }\n",
       "\n",
       "    .dataframe tbody tr th {\n",
       "        vertical-align: top;\n",
       "    }\n",
       "\n",
       "    .dataframe thead th {\n",
       "        text-align: right;\n",
       "    }\n",
       "</style>\n",
       "<table border=\"1\" class=\"dataframe\">\n",
       "  <thead>\n",
       "    <tr style=\"text-align: right;\">\n",
       "      <th></th>\n",
       "      <th>enrolled_university</th>\n",
       "      <th>Percentage</th>\n",
       "    </tr>\n",
       "  </thead>\n",
       "  <tbody>\n",
       "    <tr>\n",
       "      <th>Full time course</th>\n",
       "      <td>435</td>\n",
       "      <td>20.734032</td>\n",
       "    </tr>\n",
       "    <tr>\n",
       "      <th>Part time course</th>\n",
       "      <td>144</td>\n",
       "      <td>6.863680</td>\n",
       "    </tr>\n",
       "    <tr>\n",
       "      <th>no_enrollment</th>\n",
       "      <td>1519</td>\n",
       "      <td>72.402288</td>\n",
       "    </tr>\n",
       "  </tbody>\n",
       "</table>\n",
       "</div>"
      ],
      "text/plain": [
       "                  enrolled_university  Percentage\n",
       "Full time course                  435   20.734032\n",
       "Part time course                  144    6.863680\n",
       "no_enrollment                    1519   72.402288"
      ]
     },
     "execution_count": 8,
     "metadata": {},
     "output_type": "execute_result"
    }
   ],
   "source": [
    "# Ax1 - ENROLLED IN UNIVESITY\n",
    "train_graph_temp_df = pd.DataFrame(train[\"enrolled_university\"].value_counts())\n",
    "train_graph_temp_df[\"Percentage\"] = train_graph_temp_df[\"enrolled_university\"].apply(lambda x: x/sum(train_graph_temp_df[\"enrolled_university\"])*100)\n",
    "train_graph_temp_df = train_graph_temp_df.sort_index()\n",
    "\n",
    "test_graph_temp_df = pd.DataFrame(test[\"enrolled_university\"].value_counts())\n",
    "test_graph_temp_df[\"Percentage\"] = test_graph_temp_df[\"enrolled_university\"].apply(lambda x: x/sum(test_graph_temp_df[\"enrolled_university\"])*100)\n",
    "test_graph_temp_df = test_graph_temp_df.sort_index()\n",
    "\n",
    "test_graph_temp_df"
   ]
  },
  {
   "cell_type": "code",
   "execution_count": 9,
   "metadata": {},
   "outputs": [
    {
     "data": {
      "image/png": "[encoded data removed]",
      "text/plain": [
       "<Figure size 432x288 with 1 Axes>"
      ]
     },
     "metadata": {
      "needs_background": "light"
     },
     "output_type": "display_data"
    }
   ],
   "source": [
    "fig, ax = plt.subplots()\n",
    "ax.text(1, 2.8, 'University Enrollment', fontsize=14, fontweight='bold', fontfamily='serif', color=\"#323232\")\n",
    "ax.barh(train_graph_temp_df.index, train_graph_temp_df['Percentage'], color=\"gray\", zorder=3, height=0.7)\n",
    "ax.barh(test_graph_temp_df.index, test_graph_temp_df['Percentage'], color=\"#0e4f66\", zorder=3, height=0.3)\n",
    "ax.xaxis.set_major_formatter(mtick.PercentFormatter())\n",
    "ax.xaxis.set_major_locator(mtick.MultipleLocator(10))"
   ]
  },
  {
   "cell_type": "code",
   "execution_count": 10,
   "metadata": {},
   "outputs": [
    {
     "data": {
      "image/png": "[encoded data removed]",
      "text/plain": [
       "<Figure size 432x288 with 1 Axes>"
      ]
     },
     "metadata": {
      "needs_background": "light"
     },
     "output_type": "display_data"
    }
   ],
   "source": [
    "#GENDER \n",
    "train_graph_temp_df = pd.DataFrame(train[\"gender\"].value_counts())\n",
    "train_graph_temp_df[\"Percentage\"] = train_graph_temp_df[\"gender\"].apply(lambda x: x/sum(train_graph_temp_df[\"gender\"])*100)\n",
    "test_graph_temp_df = pd.DataFrame(test[\"gender\"].value_counts())\n",
    "test_graph_temp_df[\"Percentage\"] = test_graph_temp_df[\"gender\"].apply(lambda x: x/sum(test_graph_temp_df[\"gender\"])*100)\n",
    "\n",
    "x = np.arange(len(train_graph_temp_df))\n",
    "\n",
    "fig, ax = plt.subplots()\n",
    "ax.text(1, 76, 'Gender', fontsize=14, fontweight='bold', fontfamily='serif', color=\"#323232\")\n",
    "ax.grid(color='gray', linestyle=':', axis='y', zorder=0,  dashes=(1,5))\n",
    "ax.bar(x, height=train_graph_temp_df[\"Percentage\"], zorder=3, color=\"gray\", width=0.4)\n",
    "ax.bar(x+0.4, height=test_graph_temp_df[\"Percentage\"], zorder=3, color=\"#0e4f66\", width=0.4)\n",
    "ax.set_xticks(x + 0.4 / 2)\n",
    "ax.set_xticklabels(['Male','Female','Other'])\n",
    "ax.yaxis.set_major_formatter(mtick.PercentFormatter())\n",
    "ax.yaxis.set_major_locator(mtick.MultipleLocator(10))\n",
    "for i,j in zip([0, 1], train_graph_temp_df[\"Percentage\"]):\n",
    "    ax.annotate(f'{j:0.0f}%',xy=(i, j/2), color='#f6f6f6', horizontalalignment='center', verticalalignment='center')\n",
    "for i,j in zip([0, 1], test_graph_temp_df[\"Percentage\"]):\n",
    "    ax.annotate(f'{j:0.0f}%',xy=(i+0.4, j/2), color='#f6f6f6', horizontalalignment='center', verticalalignment='center')\n",
    "    \n",
    "    "
   ]
  },
  {
   "cell_type": "code",
   "execution_count": 11,
   "metadata": {},
   "outputs": [
    {
     "data": {
      "text/plain": [
       "Text(0.5, 0, '')"
      ]
     },
     "execution_count": 11,
     "metadata": {},
     "output_type": "execute_result"
    },
    {
     "data": {
      "image/png": "[encoded data removed]",
      "text/plain": [
       "<Figure size 432x288 with 1 Axes>"
      ]
     },
     "metadata": {
      "needs_background": "light"
     },
     "output_type": "display_data"
    }
   ],
   "source": [
    "#CDI\n",
    "train_graph_temp_df = pd.DataFrame(train[\"city_development_index\"])\n",
    "test_graph_temp_df = pd.DataFrame(test[\"city_development_index\"])\n",
    "fig, ax = plt.subplots()\n",
    "ax.grid(color='gray', linestyle=':', axis='y', zorder=0,  dashes=(1,5))\n",
    "sns.kdeplot(train_graph_temp_df[\"city_development_index\"], ax=ax,color=\"gray\", shade=True, label=\"Train\")\n",
    "sns.kdeplot(test_graph_temp_df[\"city_development_index\"], ax=ax, color=\"#0e4f66\", shade=True, label=\"Test\")\n",
    "ax.text(0.4, 6, 'City Development Index', \n",
    "         fontsize=14, fontweight='bold', fontfamily='serif', color=\"#323232\")\n",
    "ax.yaxis.set_major_locator(mtick.MultipleLocator(2))\n",
    "ax.set_ylabel('')    \n",
    "ax.set_xlabel('')"
   ]
  },
  {
   "cell_type": "code",
   "execution_count": 12,
   "metadata": {},
   "outputs": [
    {
     "data": {
      "image/png": "[encoded data removed]",
      "text/plain": [
       "<Figure size 432x288 with 1 Axes>"
      ]
     },
     "metadata": {
      "needs_background": "light"
     },
     "output_type": "display_data"
    }
   ],
   "source": [
    "# EXPERIENCE\n",
    "train_graph_temp_df = pd.DataFrame(train[\"relevent_experience\"].value_counts())\n",
    "train_graph_temp_df[\"Percentage\"] = train_graph_temp_df[\"relevent_experience\"].apply(lambda x: x/sum(train_graph_temp_df[\"relevent_experience\"])*100)\n",
    "test_graph_temp_df = pd.DataFrame(test[\"relevent_experience\"].value_counts())\n",
    "test_graph_temp_df[\"Percentage\"] = test_graph_temp_df[\"relevent_experience\"].apply(lambda x: x/sum(test_graph_temp_df[\"relevent_experience\"])*100)\n",
    "\n",
    "x = np.arange(len(train_graph_temp_df))\n",
    "fig, ax = plt.subplots()\n",
    "ax.text(-0.4, 80, 'Relevant Experience', fontsize=14, fontweight='bold', fontfamily='serif', color=\"#323232\")\n",
    "ax.grid(color='gray', linestyle=':', axis='y', zorder=0,  dashes=(1,5))\n",
    "ax.bar(x, height=train_graph_temp_df[\"Percentage\"], zorder=3, color=\"gray\", width=0.4)\n",
    "ax.bar(x+0.4, height=test_graph_temp_df[\"Percentage\"], zorder=3, color=\"#0e4f66\", width=0.4)\n",
    "ax.set_xticks(x + 0.4 / 2)\n",
    "ax.set_xticklabels(['No relevant experience','Has relevant experience'])\n",
    "ax.yaxis.set_major_formatter(mtick.PercentFormatter())\n",
    "ax.yaxis.set_major_locator(mtick.MultipleLocator(10))\n",
    "\n",
    "for i,j in zip([0, 1, 2], train_graph_temp_df[\"Percentage\"]):\n",
    "    ax.annotate(f'{j:0.0f}%',xy=(i, j/2), color='#f6f6f6', horizontalalignment='center', verticalalignment='center')\n",
    "for i,j in zip([0, 1, 2], test_graph_temp_df[\"Percentage\"]):\n",
    "    ax.annotate(f'{j:0.0f}%',xy=(i+0.4, j/2), color='#f6f6f6', horizontalalignment='center', verticalalignment='center')"
   ]
  },
  {
   "cell_type": "code",
   "execution_count": 13,
   "metadata": {},
   "outputs": [
    {
     "data": {
      "text/plain": [
       "Text(0, 0.5, '')"
      ]
     },
     "execution_count": 13,
     "metadata": {},
     "output_type": "execute_result"
    },
    {
     "data": {
      "image/png": "[encoded data removed]",
      "text/plain": [
       "<Figure size 432x288 with 1 Axes>"
      ]
     },
     "metadata": {
      "needs_background": "light"
     },
     "output_type": "display_data"
    }
   ],
   "source": [
    "#TRAINING HOURS\n",
    "train_graph_temp_df = pd.DataFrame(train[\"training_hours\"])\n",
    "train_graph_temp_df[\"TrainTest\"] = \"Train\"\n",
    "test_graph_temp_df = pd.DataFrame(test[\"training_hours\"])\n",
    "test_graph_temp_df[\"TrainTest\"] = \"Test\"\n",
    "\n",
    "fig, ax = plt.subplots()\n",
    "ax.text(-0.65, 370, 'Training Hours', fontsize=14, fontweight='bold', fontfamily='serif', color=\"#002d1d\")\n",
    "comb_graph_temp_df = pd.concat([train_graph_temp_df, test_graph_temp_df], axis=0)\n",
    "sns.boxenplot(ax=ax, y=\"training_hours\", x=\"TrainTest\", data=comb_graph_temp_df, palette=[\"gray\", \"#0e4f66\"])\n",
    "ax.set_xlabel(\"\")\n",
    "ax.set_ylabel(\"\")"
   ]
  },
  {
   "cell_type": "code",
   "execution_count": 14,
   "metadata": {},
   "outputs": [
    {
     "data": {
      "image/png": "[encoded data removed]",
      "text/plain": [
       "<Figure size 432x288 with 1 Axes>"
      ]
     },
     "metadata": {
      "needs_background": "light"
     },
     "output_type": "display_data"
    }
   ],
   "source": [
    "#EXPERIENCE YRS\n",
    "train_graph_temp_df = pd.DataFrame(train[\"experience\"].value_counts())\n",
    "train_graph_temp_df[\"Percentage\"] = train_graph_temp_df[\"experience\"].apply(lambda x: x/sum(train_graph_temp_df[\"experience\"])*100)\n",
    "train_graph_temp_df['index1'] = train_graph_temp_df.index\n",
    "train_graph_temp_df['index1'] = train_graph_temp_df['index1'].replace(['>20'],'21')\n",
    "train_graph_temp_df['index1'] = train_graph_temp_df['index1'].replace(['<1'],'0')\n",
    "train_graph_temp_df['index1']  = pd.to_numeric(train_graph_temp_df['index1'])\n",
    "train_graph_temp_df = train_graph_temp_df.sort_values('index1')\n",
    "\n",
    "\n",
    "test_graph_temp_df = pd.DataFrame(test[\"experience\"].value_counts())\n",
    "test_graph_temp_df[\"Percentage\"] = round(test_graph_temp_df[\"experience\"].apply(lambda x: x/sum(test_graph_temp_df[\"experience\"])*100),).astype(int)\n",
    "\n",
    "test_graph_temp_df['index1'] = test_graph_temp_df.index\n",
    "test_graph_temp_df['index1'] = test_graph_temp_df['index1'].replace(['>20'],'21')\n",
    "test_graph_temp_df['index1'] = test_graph_temp_df['index1'].replace(['<1'],'0')\n",
    "test_graph_temp_df['index1']  = pd.to_numeric(test_graph_temp_df['index1'])\n",
    "test_graph_temp_df = test_graph_temp_df.sort_values('index1')\n",
    "\n",
    "\n",
    "fig, ax = plt.subplots()\n",
    "ax.grid(color='gray', linestyle=':', axis='y', zorder=0,  dashes=(1,5))\n",
    "ax.plot(train_graph_temp_df['index1'], train_graph_temp_df[\"Percentage\"], zorder=3, color=\"gray\", marker='o')\n",
    "ax.plot(test_graph_temp_df['index1'], test_graph_temp_df[\"Percentage\"], zorder=3, color=\"#0e4f66\", marker='o')\n",
    "ax.text(-1.5, 20.5, 'Years Experience', \n",
    "         fontsize=14, fontweight='bold', fontfamily='serif', color=\"#323232\")\n",
    "\n",
    "#ax.set_yticklabels(labels = ['0   ', '5%','10%','15%',\"20%\"])\n",
    "ax.yaxis.set_major_formatter(mtick.PercentFormatter())\n",
    "ax.xaxis.set_major_locator(mtick.MultipleLocator(5))\n",
    "ax.yaxis.set_major_locator(mtick.MultipleLocator(5))\n"
   ]
  },
  {
   "cell_type": "code",
   "execution_count": 15,
   "metadata": {},
   "outputs": [
    {
     "data": {
      "image/png": "[encoded data removed]",
      "text/plain": [
       "<Figure size 432x288 with 1 Axes>"
      ]
     },
     "metadata": {
      "needs_background": "light"
     },
     "output_type": "display_data"
    }
   ],
   "source": [
    "#MAJOR DISCIPLINE\n",
    "train_graph_temp_df = pd.DataFrame(train[\"major_discipline\"].value_counts())\n",
    "train_graph_temp_df[\"Percentage\"] = train_graph_temp_df[\"major_discipline\"].apply(lambda x: x/sum(train_graph_temp_df[\"major_discipline\"])*100)\n",
    "\n",
    "test_graph_temp_df = pd.DataFrame(test[\"major_discipline\"].value_counts())\n",
    "test_graph_temp_df[\"Percentage\"] = test_graph_temp_df[\"major_discipline\"].apply(lambda x: x/sum(test_graph_temp_df[\"major_discipline\"])*100)\n",
    "\n",
    "fig, ax = plt.subplots()\n",
    "ax.grid(color='gray', linestyle=':', axis='x', zorder=0,  dashes=(1,5))\n",
    "ax.barh(np.arange(len(train_graph_temp_df.index)), train_graph_temp_df[\"Percentage\"], zorder=3, color=\"gray\", height=0.4)\n",
    "ax.barh(np.arange(len(test_graph_temp_df.index))+0.4, test_graph_temp_df[\"Percentage\"], zorder=3, color=\"#0e4f66\", height=0.4)\n",
    "ax.text(30, 5, 'Major Discipline', \n",
    "         fontsize=14, fontweight='bold', fontfamily='serif', color=\"#323232\")\n",
    "ax.xaxis.set_major_formatter(mtick.PercentFormatter())\n",
    "ax.yaxis.set_major_locator(mtick.MultipleLocator(1))\n",
    "ax.set_yticks(np.arange(len(test_graph_temp_df.index))+0.4 / 2)\n",
    "ax.set_yticklabels(list(test_graph_temp_df.index))\n",
    "ax.invert_yaxis()\n",
    "\n"
   ]
  },
  {
   "cell_type": "markdown",
   "metadata": {},
   "source": [
    "## Findings:\n",
    "\n",
    "- training set and testing set are pretty similar which is good\n",
    "- 90% people in this sample are male\n",
    "- 88% are STEM majored\n",
    "- 60% of them have greduate degree, 30% has master degree\n",
    "- more than 30% of them has 10+ yrs experiences"
   ]
  },
  {
   "cell_type": "markdown",
   "metadata": {},
   "source": [
    "## let's focus on the features in training set\n",
    "a couple points to look into:\n",
    "1. who is looking for a new job, by gender\n",
    "2. in which cities are the job seekers living\n",
    "3. what similarities do they have"
   ]
  },
  {
   "cell_type": "code",
   "execution_count": 16,
   "metadata": {},
   "outputs": [
    {
     "data": {
      "text/plain": [
       "Text(0, 0.5, '')"
      ]
     },
     "execution_count": 16,
     "metadata": {},
     "output_type": "execute_result"
    },
    {
     "data": {
      "image/png": "[encoded data removed]",
      "text/plain": [
       "<Figure size 432x288 with 1 Axes>"
      ]
     },
     "metadata": {
      "needs_background": "light"
     },
     "output_type": "display_data"
    }
   ],
   "source": [
    "# Distribution\n",
    "color_palette=[\"gray\",\"#0e4f66\"]\n",
    "\n",
    "fig, ax = plt.subplots()\n",
    "ax.text(0.9, 16000, 'Who is looking for a new job?', fontsize=10, fontweight='bold', fontfamily='serif', color=\"#323232\")\n",
    "ax.grid(color='gray', linestyle=':', axis='y', zorder=0,  dashes=(1,5))\n",
    "sns.countplot(x=train[\"gender\"], color=\"#247747\", ax=ax, zorder=3,alpha=0.9)\n",
    "ax.set_xlabel(\"\")\n",
    "ax.set_ylabel(\"\")"
   ]
  },
  {
   "cell_type": "code",
   "execution_count": 17,
   "metadata": {},
   "outputs": [
    {
     "data": {
      "text/plain": [
       "Text(0, 0.5, '')"
      ]
     },
     "execution_count": 17,
     "metadata": {},
     "output_type": "execute_result"
    },
    {
     "data": {
      "image/png": "[encoded data removed]",
      "text/plain": [
       "<Figure size 432x288 with 1 Axes>"
      ]
     },
     "metadata": {
      "needs_background": "light"
     },
     "output_type": "display_data"
    }
   ],
   "source": [
    "#by gender\n",
    "fig, ax = plt.subplots()\n",
    "#ax.text(-1, 11000, 'Job searching by gender', fontsize=14, fontweight='bold', fontfamily='serif', color=\"#323232\")\n",
    "ax.grid(color='gray', linestyle=':', axis='y', zorder=0,  dashes=(1,5))\n",
    "sns.countplot(x=\"gender\", hue=\"target\", data=train, palette=color_palette, ax=ax, zorder=3)\n",
    "legend_labels, _= ax.get_legend_handles_labels()\n",
    "ax.legend(legend_labels, [\"Non-Job Seeker\", \"Job Seeker\"], ncol=2, bbox_to_anchor=(1, 1), \n",
    "           facecolor='#fbfbfb', edgecolor='#fbfbfb')\n",
    "ax.set_xlabel(\"\")\n",
    "ax.set_ylabel(\"\")"
   ]
  },
  {
   "cell_type": "code",
   "execution_count": 18,
   "metadata": {},
   "outputs": [
    {
     "data": {
      "text/plain": [
       "Text(0, 0.5, '')"
      ]
     },
     "execution_count": 18,
     "metadata": {},
     "output_type": "execute_result"
    },
    {
     "data": {
      "image/png": "[encoded data removed]",
      "text/plain": [
       "<Figure size 432x288 with 1 Axes>"
      ]
     },
     "metadata": {
      "needs_background": "light"
     },
     "output_type": "display_data"
    }
   ],
   "source": [
    "# CDI\n",
    "fig, ax = plt.subplots()\n",
    "ax.text(0.5, 12, 'Does the City Development Index play a role?', fontsize=10, fontweight='bold', fontfamily='serif', color=\"#323232\")\n",
    "\n",
    "ax.grid(color='gray', linestyle=':', axis='y', zorder=0,  dashes=(1,5))\n",
    "sns.kdeplot(train[\"city_development_index\"], color=\"#247747\", shade=True, ax=ax, zorder=3)\n",
    "ax.set_xlabel(\"\")\n",
    "ax.set_ylabel(\"\")\n"
   ]
  },
  {
   "cell_type": "code",
   "execution_count": 19,
   "metadata": {},
   "outputs": [
    {
     "data": {
      "text/plain": [
       "Text(0, 0.5, '')"
      ]
     },
     "execution_count": 19,
     "metadata": {},
     "output_type": "execute_result"
    },
    {
     "data": {
      "image/png": "[encoded data removed]",
      "text/plain": [
       "<Figure size 432x288 with 1 Axes>"
      ]
     },
     "metadata": {
      "needs_background": "light"
     },
     "output_type": "display_data"
    }
   ],
   "source": [
    "fig, ax = plt.subplots()\n",
    "ax.text(0.36, 12, 'Job Seeker / Non-Job Seeker', fontsize=12, fontweight='bold', fontfamily='serif', color=\"#323232\")\n",
    "ax.grid(color='gray', linestyle=':', axis='y', zorder=0,  dashes=(1,5))\n",
    "sns.kdeplot(train.loc[(train[\"target\"]==0), \"city_development_index\"], color=\"gray\", label=\"Non-Job Seeker\", ax=ax)\n",
    "sns.kdeplot(train.loc[(train[\"target\"]==1), \"city_development_index\"], color=\"#0e4f66\", label=\"Job Seeker\", ax=ax)\n",
    "ax.set_xlabel(\"\")\n",
    "ax.set_ylabel(\"\")"
   ]
  },
  {
   "cell_type": "code",
   "execution_count": 20,
   "metadata": {},
   "outputs": [],
   "source": [
    "###\n",
    "ed_order = ['Primary School','High School','Graduate','Masters','Phd']\n",
    "job_order = ['Never', '1', '2', '3', '4', '>4']\n",
    "train['count'] = 1\n",
    "job_hunt_only = train[train['target']==1]\n",
    "no_job_hunt_only = train[train['target']==0]\n",
    "\n",
    "job_change = train.groupby(['education_level','last_new_job'])['experience'].sum().unstack()\n",
    "\n",
    "job_hunt_only.groupby(['target','last_new_job'])['count'].sum().unstack()\n",
    "notseek_job_change = no_job_hunt_only.groupby(['target','last_new_job'])['count'].sum().unstack().T\n",
    "seek_job_change = job_hunt_only.groupby(['target','last_new_job'])['count'].sum().unstack().T\n",
    "\n",
    "notseek_job_change.columns = ['count']\n",
    "seek_job_change.columns = ['count']\n",
    "\n",
    "notseek_job_change[\"percentage\"] = notseek_job_change[\"count\"].apply(lambda x: x/sum(notseek_job_change[\"count\"])) *100\n",
    "seek_job_change[\"percentage\"] = seek_job_change[\"count\"].apply(lambda x: x/sum(seek_job_change[\"count\"])) *100\n",
    "\n",
    "\n",
    "\n",
    "\n",
    "ed_notseek_job_change = no_job_hunt_only.groupby(['target','education_level'])['count'].sum().unstack().T\n",
    "ed_seek_job_change = job_hunt_only.groupby(['target','education_level'])['count'].sum().unstack().T\n",
    "\n",
    "ed_notseek_job_change.columns = ['count']\n",
    "ed_seek_job_change.columns = ['count']\n",
    "\n",
    "ed_notseek_job_change[\"percentage\"] = ed_notseek_job_change[\"count\"].apply(lambda x: x/sum(ed_notseek_job_change[\"count\"])) *100\n",
    "ed_seek_job_change[\"percentage\"] = ed_seek_job_change[\"count\"].apply(lambda x: x/sum(ed_seek_job_change[\"count\"])) *100\n",
    "\n"
   ]
  },
  {
   "cell_type": "code",
   "execution_count": 21,
   "metadata": {},
   "outputs": [],
   "source": [
    "#seek_job_change = seek_job_change.loc[job_order]\n",
    "#notseek_job_change = notseek_job_change.loc[job_order]\n",
    "ed_seek_job_change = ed_seek_job_change.loc[ed_order]\n",
    "ed_notseek_job_change = ed_notseek_job_change.loc[ed_order]\n"
   ]
  },
  {
   "cell_type": "code",
   "execution_count": 22,
   "metadata": {},
   "outputs": [
    {
     "data": {
      "text/plain": [
       "<matplotlib.legend.Legend at 0x1a272474e0>"
      ]
     },
     "execution_count": 22,
     "metadata": {},
     "output_type": "execute_result"
    },
    {
     "data": {
      "image/png": "[encoded data removed]",
      "text/plain": [
       "<Figure size 432x288 with 1 Axes>"
      ]
     },
     "metadata": {
      "needs_background": "light"
     },
     "output_type": "display_data"
    }
   ],
   "source": [
    "fig, ax = plt.subplots()\n",
    "ax.barh(notseek_job_change.index, notseek_job_change['percentage'], color=\"gray\", zorder=3, height=0.7)\n",
    "ax.barh(seek_job_change.index, seek_job_change['percentage'], color=\"#0e4f66\", zorder=3, height=0.3)\n",
    "ax.xaxis.set_major_locator(mtick.MultipleLocator(10))\n",
    "ax.text(-1, 5.7, 'Last job change (yrs)',fontsize=10, fontweight='bold', fontfamily='serif',color='#323232')\n",
    "ax.legend(legend_labels, [\"Non-Job Seeker\", \"Job Seeker\"], ncol=1, bbox_to_anchor=(1, 1), \n",
    "           facecolor='#fbfbfb', edgecolor='#fbfbfb')"
   ]
  },
  {
   "cell_type": "code",
   "execution_count": 23,
   "metadata": {},
   "outputs": [
    {
     "data": {
      "text/plain": [
       "<matplotlib.legend.Legend at 0x1a27244b00>"
      ]
     },
     "execution_count": 23,
     "metadata": {},
     "output_type": "execute_result"
    },
    {
     "data": {
      "image/png": "[encoded data removed]",
      "text/plain": [
       "<Figure size 432x288 with 1 Axes>"
      ]
     },
     "metadata": {
      "needs_background": "light"
     },
     "output_type": "display_data"
    }
   ],
   "source": [
    "fig, ax = plt.subplots()\n",
    "ax.barh(ed_notseek_job_change.index, ed_notseek_job_change['percentage'], color=\"gray\", zorder=3, height=0.7)\n",
    "ax.barh(ed_seek_job_change.index, ed_seek_job_change['percentage'], color=\"#0e4f66\", zorder=3, height=0.3)\n",
    "ax.xaxis.set_major_locator(mtick.MultipleLocator(10))\n",
    "ax.text(0, 4.8, 'Education level', fontsize=10, fontweight='bold', fontfamily='serif',color='#323232')\n",
    "ax.legend(legend_labels, [\"Non-Job Seeker\", \"Job Seeker\"], ncol=1, bbox_to_anchor=(1, 1), \n",
    "           facecolor='#fbfbfb', edgecolor='#fbfbfb')"
   ]
  },
  {
   "cell_type": "markdown",
   "metadata": {},
   "source": [
    "## Findings\n",
    "1. the peak job seekers are in low CDI and high CDI groups\n",
    "2. job seekers are more likely change job more oftern than non-job seekers\n",
    "3. more job seekers in the graduate sample than non-job seekers"
   ]
  },
  {
   "cell_type": "code",
   "execution_count": 50,
   "metadata": {},
   "outputs": [],
   "source": [
    "from sklearn.preprocessing import OrdinalEncoder, OneHotEncoder\n",
    "from sklearn.pipeline import Pipeline\n",
    "from sklearn.compose import ColumnTransformer\n",
    "from sklearn.feature_selection import SelectKBest, f_classif\n",
    "\n",
    "from sklearn.model_selection import train_test_split\n",
    "from sklearn.preprocessing import StandardScaler, PowerTransformer\n",
    "from sklearn.naive_bayes import GaussianNB\n",
    "from sklearn.ensemble import RandomForestClassifier\n",
    "from sklearn.linear_model import LogisticRegression\n",
    "from sklearn.tree import DecisionTreeClassifier\n",
    "from sklearn.model_selection import GridSearchCV, RandomizedSearchCV\n",
    "\n",
    "from sklearn.metrics import accuracy_score, confusion_matrix, classification_report"
   ]
  },
  {
   "cell_type": "markdown",
   "metadata": {},
   "source": [
    "## Data Preparation"
   ]
  },
  {
   "cell_type": "code",
   "execution_count": 25,
   "metadata": {},
   "outputs": [],
   "source": [
    "def city_code(x):\n",
    "    y = x.str.split(\"_\",expand=True)[1].astype('int64')\n",
    "    return y"
   ]
  },
  {
   "cell_type": "code",
   "execution_count": 26,
   "metadata": {},
   "outputs": [],
   "source": [
    "train['city'] = city_code(train['city'])"
   ]
  },
  {
   "cell_type": "code",
   "execution_count": 27,
   "metadata": {},
   "outputs": [],
   "source": [
    "ord_pipe = Pipeline([\n",
    "    ('ord_encode',OrdinalEncoder([\n",
    "                                    ['Unknown', 'Primary School',  'High School', 'Graduate', 'Masters', 'Phd'],\n",
    "                                    'Unknown,<1,1,2,3,4,5,6,7,8,9,10,11,12,13,14,15,16,17,18,19,20,>20'.split(','),\n",
    "                                    ['Unknown','<10', '10/49', '50-99', '100-500', '500-999' ,'1000-4999', '5000-9999', '10000+'],\n",
    "                                    ['Unknown','1', '2', '3', '4', '>4', 'never']\n",
    "                                ]))\n",
    "])"
   ]
  },
  {
   "cell_type": "code",
   "execution_count": 28,
   "metadata": {},
   "outputs": [],
   "source": [
    "def null_fill(x):\n",
    "    return x.fillna('Unknown',inplace=True)\n",
    "null_fill(train)"
   ]
  },
  {
   "cell_type": "code",
   "execution_count": 29,
   "metadata": {},
   "outputs": [
    {
     "data": {
      "text/plain": [
       "Pipeline(steps=[('ord_encode',\n",
       "                 OrdinalEncoder(categories=[['Unknown', 'Primary School',\n",
       "                                             'High School', 'Graduate',\n",
       "                                             'Masters', 'Phd'],\n",
       "                                            ['Unknown', '<1', '1', '2', '3',\n",
       "                                             '4', '5', '6', '7', '8', '9', '10',\n",
       "                                             '11', '12', '13', '14', '15', '16',\n",
       "                                             '17', '18', '19', '20', '>20'],\n",
       "                                            ['Unknown', '<10', '10/49', '50-99',\n",
       "                                             '100-500', '500-999', '1000-4999',\n",
       "                                             '5000-9999', '10000+'],\n",
       "                                            ['Unknown', '1', '2', '3', '4',\n",
       "                                             '>4', 'never']]))])"
      ]
     },
     "execution_count": 29,
     "metadata": {},
     "output_type": "execute_result"
    }
   ],
   "source": [
    "ord_pipe"
   ]
  },
  {
   "cell_type": "code",
   "execution_count": 30,
   "metadata": {},
   "outputs": [],
   "source": [
    "ord_column = ['education_level','experience','company_size','last_new_job']\n",
    "card_column = ['gender','relevent_experience','enrolled_university','major_discipline','company_type'] "
   ]
  },
  {
   "cell_type": "code",
   "execution_count": 31,
   "metadata": {},
   "outputs": [],
   "source": [
    "def encoder(df,ord_column,card_column):\n",
    "    ord_pipe.fit(df[ord_column])\n",
    "    df[ord_column] = ord_pipe.transform(df[ord_column])\n",
    "    df = pd.get_dummies(df,columns=card_column)\n",
    "    return df"
   ]
  },
  {
   "cell_type": "code",
   "execution_count": 32,
   "metadata": {},
   "outputs": [],
   "source": [
    "train = encoder(train,ord_column,card_column)"
   ]
  },
  {
   "cell_type": "code",
   "execution_count": 33,
   "metadata": {},
   "outputs": [
    {
     "data": {
      "text/html": [
       "<div>\n",
       "<style scoped>\n",
       "    .dataframe tbody tr th:only-of-type {\n",
       "        vertical-align: middle;\n",
       "    }\n",
       "\n",
       "    .dataframe tbody tr th {\n",
       "        vertical-align: top;\n",
       "    }\n",
       "\n",
       "    .dataframe thead th {\n",
       "        text-align: right;\n",
       "    }\n",
       "</style>\n",
       "<table border=\"1\" class=\"dataframe\">\n",
       "  <thead>\n",
       "    <tr style=\"text-align: right;\">\n",
       "      <th></th>\n",
       "      <th>enrollee_id</th>\n",
       "      <th>city</th>\n",
       "      <th>city_development_index</th>\n",
       "      <th>education_level</th>\n",
       "      <th>experience</th>\n",
       "      <th>company_size</th>\n",
       "      <th>last_new_job</th>\n",
       "      <th>training_hours</th>\n",
       "      <th>target</th>\n",
       "      <th>count</th>\n",
       "      <th>...</th>\n",
       "      <th>major_discipline_No Major</th>\n",
       "      <th>major_discipline_Other</th>\n",
       "      <th>major_discipline_STEM</th>\n",
       "      <th>company_type_Early Stage Startup</th>\n",
       "      <th>company_type_Funded Startup</th>\n",
       "      <th>company_type_NGO</th>\n",
       "      <th>company_type_Other</th>\n",
       "      <th>company_type_Public Sector</th>\n",
       "      <th>company_type_Pvt Ltd</th>\n",
       "      <th>company_type_Unknown</th>\n",
       "    </tr>\n",
       "  </thead>\n",
       "  <tbody>\n",
       "    <tr>\n",
       "      <th>0</th>\n",
       "      <td>8949</td>\n",
       "      <td>103</td>\n",
       "      <td>0.920</td>\n",
       "      <td>3.0</td>\n",
       "      <td>22.0</td>\n",
       "      <td>0.0</td>\n",
       "      <td>1.0</td>\n",
       "      <td>36</td>\n",
       "      <td>1.0</td>\n",
       "      <td>1</td>\n",
       "      <td>...</td>\n",
       "      <td>0</td>\n",
       "      <td>0</td>\n",
       "      <td>1</td>\n",
       "      <td>0</td>\n",
       "      <td>0</td>\n",
       "      <td>0</td>\n",
       "      <td>0</td>\n",
       "      <td>0</td>\n",
       "      <td>0</td>\n",
       "      <td>1</td>\n",
       "    </tr>\n",
       "    <tr>\n",
       "      <th>1</th>\n",
       "      <td>29725</td>\n",
       "      <td>40</td>\n",
       "      <td>0.776</td>\n",
       "      <td>3.0</td>\n",
       "      <td>16.0</td>\n",
       "      <td>3.0</td>\n",
       "      <td>5.0</td>\n",
       "      <td>47</td>\n",
       "      <td>0.0</td>\n",
       "      <td>1</td>\n",
       "      <td>...</td>\n",
       "      <td>0</td>\n",
       "      <td>0</td>\n",
       "      <td>1</td>\n",
       "      <td>0</td>\n",
       "      <td>0</td>\n",
       "      <td>0</td>\n",
       "      <td>0</td>\n",
       "      <td>0</td>\n",
       "      <td>1</td>\n",
       "      <td>0</td>\n",
       "    </tr>\n",
       "    <tr>\n",
       "      <th>2</th>\n",
       "      <td>11561</td>\n",
       "      <td>21</td>\n",
       "      <td>0.624</td>\n",
       "      <td>3.0</td>\n",
       "      <td>6.0</td>\n",
       "      <td>3.0</td>\n",
       "      <td>6.0</td>\n",
       "      <td>83</td>\n",
       "      <td>0.0</td>\n",
       "      <td>1</td>\n",
       "      <td>...</td>\n",
       "      <td>0</td>\n",
       "      <td>0</td>\n",
       "      <td>1</td>\n",
       "      <td>0</td>\n",
       "      <td>0</td>\n",
       "      <td>0</td>\n",
       "      <td>0</td>\n",
       "      <td>0</td>\n",
       "      <td>1</td>\n",
       "      <td>0</td>\n",
       "    </tr>\n",
       "    <tr>\n",
       "      <th>3</th>\n",
       "      <td>33241</td>\n",
       "      <td>115</td>\n",
       "      <td>0.789</td>\n",
       "      <td>3.0</td>\n",
       "      <td>1.0</td>\n",
       "      <td>3.0</td>\n",
       "      <td>6.0</td>\n",
       "      <td>52</td>\n",
       "      <td>1.0</td>\n",
       "      <td>1</td>\n",
       "      <td>...</td>\n",
       "      <td>0</td>\n",
       "      <td>0</td>\n",
       "      <td>0</td>\n",
       "      <td>0</td>\n",
       "      <td>0</td>\n",
       "      <td>0</td>\n",
       "      <td>0</td>\n",
       "      <td>0</td>\n",
       "      <td>1</td>\n",
       "      <td>0</td>\n",
       "    </tr>\n",
       "    <tr>\n",
       "      <th>4</th>\n",
       "      <td>666</td>\n",
       "      <td>162</td>\n",
       "      <td>0.767</td>\n",
       "      <td>4.0</td>\n",
       "      <td>22.0</td>\n",
       "      <td>3.0</td>\n",
       "      <td>4.0</td>\n",
       "      <td>8</td>\n",
       "      <td>0.0</td>\n",
       "      <td>1</td>\n",
       "      <td>...</td>\n",
       "      <td>0</td>\n",
       "      <td>0</td>\n",
       "      <td>1</td>\n",
       "      <td>0</td>\n",
       "      <td>1</td>\n",
       "      <td>0</td>\n",
       "      <td>0</td>\n",
       "      <td>0</td>\n",
       "      <td>0</td>\n",
       "      <td>0</td>\n",
       "    </tr>\n",
       "  </tbody>\n",
       "</table>\n",
       "<p>5 rows × 31 columns</p>\n",
       "</div>"
      ],
      "text/plain": [
       "   enrollee_id  city  city_development_index  education_level  experience  \\\n",
       "0         8949   103                   0.920              3.0        22.0   \n",
       "1        29725    40                   0.776              3.0        16.0   \n",
       "2        11561    21                   0.624              3.0         6.0   \n",
       "3        33241   115                   0.789              3.0         1.0   \n",
       "4          666   162                   0.767              4.0        22.0   \n",
       "\n",
       "   company_size  last_new_job  training_hours  target  count  ...  \\\n",
       "0           0.0           1.0              36     1.0      1  ...   \n",
       "1           3.0           5.0              47     0.0      1  ...   \n",
       "2           3.0           6.0              83     0.0      1  ...   \n",
       "3           3.0           6.0              52     1.0      1  ...   \n",
       "4           3.0           4.0               8     0.0      1  ...   \n",
       "\n",
       "   major_discipline_No Major  major_discipline_Other  major_discipline_STEM  \\\n",
       "0                          0                       0                      1   \n",
       "1                          0                       0                      1   \n",
       "2                          0                       0                      1   \n",
       "3                          0                       0                      0   \n",
       "4                          0                       0                      1   \n",
       "\n",
       "   company_type_Early Stage Startup  company_type_Funded Startup  \\\n",
       "0                                 0                            0   \n",
       "1                                 0                            0   \n",
       "2                                 0                            0   \n",
       "3                                 0                            0   \n",
       "4                                 0                            1   \n",
       "\n",
       "   company_type_NGO  company_type_Other  company_type_Public Sector  \\\n",
       "0                 0                   0                           0   \n",
       "1                 0                   0                           0   \n",
       "2                 0                   0                           0   \n",
       "3                 0                   0                           0   \n",
       "4                 0                   0                           0   \n",
       "\n",
       "   company_type_Pvt Ltd  company_type_Unknown  \n",
       "0                     0                     1  \n",
       "1                     1                     0  \n",
       "2                     1                     0  \n",
       "3                     1                     0  \n",
       "4                     0                     0  \n",
       "\n",
       "[5 rows x 31 columns]"
      ]
     },
     "execution_count": 33,
     "metadata": {},
     "output_type": "execute_result"
    }
   ],
   "source": [
    "train.head()"
   ]
  },
  {
   "cell_type": "markdown",
   "metadata": {},
   "source": [
    "# Modeling"
   ]
  },
  {
   "cell_type": "code",
   "execution_count": 34,
   "metadata": {},
   "outputs": [],
   "source": [
    "X = train.drop(columns=['enrollee_id','target'])\n",
    "y = train.target"
   ]
  },
  {
   "cell_type": "code",
   "execution_count": 37,
   "metadata": {},
   "outputs": [
    {
     "name": "stderr",
     "output_type": "stream",
     "text": [
      "/anaconda3/lib/python3.7/site-packages/sklearn/feature_selection/_univariate_selection.py:115: UserWarning: Features [7] are constant.\n",
      "  UserWarning)\n"
     ]
    }
   ],
   "source": [
    "selector = SelectKBest(f_classif, k=10)\n",
    "selector.fit(X, y)\n",
    "\n",
    "cols = selector.get_support(indices=True)\n",
    "X_new = X.iloc[:,cols]"
   ]
  },
  {
   "cell_type": "code",
   "execution_count": 38,
   "metadata": {},
   "outputs": [
    {
     "name": "stderr",
     "output_type": "stream",
     "text": [
      "/anaconda3/lib/python3.7/site-packages/sklearn/feature_selection/_univariate_selection.py:115: UserWarning: Features [7] are constant.\n",
      "  UserWarning)\n"
     ]
    }
   ],
   "source": [
    "selector = SelectKBest(f_classif, k=10)\n",
    "selector.fit(X, y)\n",
    "\n",
    "cols = selector.get_support(indices=True)\n",
    "X_new = X.iloc[:,cols]"
   ]
  },
  {
   "cell_type": "code",
   "execution_count": 39,
   "metadata": {},
   "outputs": [
    {
     "data": {
      "text/plain": [
       "Index(['city', 'city_development_index', 'experience', 'gender_Female',\n",
       "       'gender_Male', 'relevent_experience_Has relevent experience',\n",
       "       'relevent_experience_No relevent experience',\n",
       "       'enrolled_university_Full time course',\n",
       "       'enrolled_university_no_enrollment',\n",
       "       'company_type_Early Stage Startup'],\n",
       "      dtype='object')"
      ]
     },
     "execution_count": 39,
     "metadata": {},
     "output_type": "execute_result"
    }
   ],
   "source": [
    "X_new.columns"
   ]
  },
  {
   "cell_type": "code",
   "execution_count": 40,
   "metadata": {},
   "outputs": [
    {
     "data": {
      "text/html": [
       "<div>\n",
       "<style scoped>\n",
       "    .dataframe tbody tr th:only-of-type {\n",
       "        vertical-align: middle;\n",
       "    }\n",
       "\n",
       "    .dataframe tbody tr th {\n",
       "        vertical-align: top;\n",
       "    }\n",
       "\n",
       "    .dataframe thead th {\n",
       "        text-align: right;\n",
       "    }\n",
       "</style>\n",
       "<table border=\"1\" class=\"dataframe\">\n",
       "  <thead>\n",
       "    <tr style=\"text-align: right;\">\n",
       "      <th></th>\n",
       "      <th>city</th>\n",
       "      <th>city_development_index</th>\n",
       "      <th>experience</th>\n",
       "      <th>gender_Female</th>\n",
       "      <th>gender_Male</th>\n",
       "      <th>relevent_experience_Has relevent experience</th>\n",
       "      <th>relevent_experience_No relevent experience</th>\n",
       "      <th>enrolled_university_Full time course</th>\n",
       "      <th>enrolled_university_no_enrollment</th>\n",
       "      <th>company_type_Early Stage Startup</th>\n",
       "    </tr>\n",
       "  </thead>\n",
       "  <tbody>\n",
       "    <tr>\n",
       "      <th>0</th>\n",
       "      <td>103</td>\n",
       "      <td>0.920</td>\n",
       "      <td>22.0</td>\n",
       "      <td>0</td>\n",
       "      <td>1</td>\n",
       "      <td>1</td>\n",
       "      <td>0</td>\n",
       "      <td>0</td>\n",
       "      <td>1</td>\n",
       "      <td>0</td>\n",
       "    </tr>\n",
       "    <tr>\n",
       "      <th>1</th>\n",
       "      <td>40</td>\n",
       "      <td>0.776</td>\n",
       "      <td>16.0</td>\n",
       "      <td>0</td>\n",
       "      <td>1</td>\n",
       "      <td>0</td>\n",
       "      <td>1</td>\n",
       "      <td>0</td>\n",
       "      <td>1</td>\n",
       "      <td>0</td>\n",
       "    </tr>\n",
       "    <tr>\n",
       "      <th>2</th>\n",
       "      <td>21</td>\n",
       "      <td>0.624</td>\n",
       "      <td>6.0</td>\n",
       "      <td>0</td>\n",
       "      <td>1</td>\n",
       "      <td>0</td>\n",
       "      <td>1</td>\n",
       "      <td>1</td>\n",
       "      <td>0</td>\n",
       "      <td>0</td>\n",
       "    </tr>\n",
       "    <tr>\n",
       "      <th>3</th>\n",
       "      <td>115</td>\n",
       "      <td>0.789</td>\n",
       "      <td>1.0</td>\n",
       "      <td>0</td>\n",
       "      <td>1</td>\n",
       "      <td>0</td>\n",
       "      <td>1</td>\n",
       "      <td>1</td>\n",
       "      <td>0</td>\n",
       "      <td>0</td>\n",
       "    </tr>\n",
       "    <tr>\n",
       "      <th>4</th>\n",
       "      <td>162</td>\n",
       "      <td>0.767</td>\n",
       "      <td>22.0</td>\n",
       "      <td>0</td>\n",
       "      <td>1</td>\n",
       "      <td>1</td>\n",
       "      <td>0</td>\n",
       "      <td>0</td>\n",
       "      <td>1</td>\n",
       "      <td>0</td>\n",
       "    </tr>\n",
       "  </tbody>\n",
       "</table>\n",
       "</div>"
      ],
      "text/plain": [
       "   city  city_development_index  experience  gender_Female  gender_Male  \\\n",
       "0   103                   0.920        22.0              0            1   \n",
       "1    40                   0.776        16.0              0            1   \n",
       "2    21                   0.624         6.0              0            1   \n",
       "3   115                   0.789         1.0              0            1   \n",
       "4   162                   0.767        22.0              0            1   \n",
       "\n",
       "   relevent_experience_Has relevent experience  \\\n",
       "0                                            1   \n",
       "1                                            0   \n",
       "2                                            0   \n",
       "3                                            0   \n",
       "4                                            1   \n",
       "\n",
       "   relevent_experience_No relevent experience  \\\n",
       "0                                           0   \n",
       "1                                           1   \n",
       "2                                           1   \n",
       "3                                           1   \n",
       "4                                           0   \n",
       "\n",
       "   enrolled_university_Full time course  enrolled_university_no_enrollment  \\\n",
       "0                                     0                                  1   \n",
       "1                                     0                                  1   \n",
       "2                                     1                                  0   \n",
       "3                                     1                                  0   \n",
       "4                                     0                                  1   \n",
       "\n",
       "   company_type_Early Stage Startup  \n",
       "0                                 0  \n",
       "1                                 0  \n",
       "2                                 0  \n",
       "3                                 0  \n",
       "4                                 0  "
      ]
     },
     "execution_count": 40,
     "metadata": {},
     "output_type": "execute_result"
    }
   ],
   "source": [
    "X_new.head()"
   ]
  },
  {
   "cell_type": "code",
   "execution_count": 41,
   "metadata": {},
   "outputs": [
    {
     "data": {
      "text/plain": [
       "((15326, 10), (3832, 10), (15326,), (3832,))"
      ]
     },
     "execution_count": 41,
     "metadata": {},
     "output_type": "execute_result"
    }
   ],
   "source": [
    "X_train,X_test,y_train,y_test = train_test_split(X_new,y,test_size=0.2,stratify=y,random_state=42)\n",
    "X_train.shape,X_test.shape,y_train.shape,y_test.shape"
   ]
  },
  {
   "cell_type": "code",
   "execution_count": 42,
   "metadata": {},
   "outputs": [],
   "source": [
    "num_pipe = Pipeline([\n",
    "    ('scaler',StandardScaler())\n",
    "])"
   ]
  },
  {
   "cell_type": "code",
   "execution_count": 43,
   "metadata": {},
   "outputs": [],
   "source": [
    "num_column = ['city','city_development_index']"
   ]
  },
  {
   "cell_type": "code",
   "execution_count": 44,
   "metadata": {},
   "outputs": [],
   "source": [
    "def transform_scaling(X,num_column):\n",
    "    num_pipe.fit(X[num_column])\n",
    "    X[num_column] = num_pipe.transform(X[num_column])\n",
    "    return X"
   ]
  },
  {
   "cell_type": "code",
   "execution_count": 45,
   "metadata": {},
   "outputs": [],
   "source": [
    "X_train = transform_scaling(X_train,num_column)\n",
    "X_test = transform_scaling(X_test,num_column)"
   ]
  },
  {
   "cell_type": "code",
   "execution_count": 46,
   "metadata": {},
   "outputs": [
    {
     "data": {
      "text/html": [
       "<div>\n",
       "<style scoped>\n",
       "    .dataframe tbody tr th:only-of-type {\n",
       "        vertical-align: middle;\n",
       "    }\n",
       "\n",
       "    .dataframe tbody tr th {\n",
       "        vertical-align: top;\n",
       "    }\n",
       "\n",
       "    .dataframe thead th {\n",
       "        text-align: right;\n",
       "    }\n",
       "</style>\n",
       "<table border=\"1\" class=\"dataframe\">\n",
       "  <thead>\n",
       "    <tr style=\"text-align: right;\">\n",
       "      <th></th>\n",
       "      <th>city</th>\n",
       "      <th>city_development_index</th>\n",
       "      <th>experience</th>\n",
       "      <th>gender_Female</th>\n",
       "      <th>gender_Male</th>\n",
       "      <th>relevent_experience_Has relevent experience</th>\n",
       "      <th>relevent_experience_No relevent experience</th>\n",
       "      <th>enrolled_university_Full time course</th>\n",
       "      <th>enrolled_university_no_enrollment</th>\n",
       "      <th>company_type_Early Stage Startup</th>\n",
       "    </tr>\n",
       "  </thead>\n",
       "  <tbody>\n",
       "    <tr>\n",
       "      <th>17855</th>\n",
       "      <td>-1.276746</td>\n",
       "      <td>-1.672102</td>\n",
       "      <td>11.0</td>\n",
       "      <td>0</td>\n",
       "      <td>1</td>\n",
       "      <td>1</td>\n",
       "      <td>0</td>\n",
       "      <td>0</td>\n",
       "      <td>1</td>\n",
       "      <td>0</td>\n",
       "    </tr>\n",
       "    <tr>\n",
       "      <th>17664</th>\n",
       "      <td>0.489526</td>\n",
       "      <td>0.734358</td>\n",
       "      <td>6.0</td>\n",
       "      <td>0</td>\n",
       "      <td>1</td>\n",
       "      <td>0</td>\n",
       "      <td>1</td>\n",
       "      <td>0</td>\n",
       "      <td>1</td>\n",
       "      <td>0</td>\n",
       "    </tr>\n",
       "    <tr>\n",
       "      <th>13404</th>\n",
       "      <td>-0.652089</td>\n",
       "      <td>0.539240</td>\n",
       "      <td>13.0</td>\n",
       "      <td>0</td>\n",
       "      <td>1</td>\n",
       "      <td>1</td>\n",
       "      <td>0</td>\n",
       "      <td>0</td>\n",
       "      <td>1</td>\n",
       "      <td>0</td>\n",
       "    </tr>\n",
       "    <tr>\n",
       "      <th>13366</th>\n",
       "      <td>0.489526</td>\n",
       "      <td>0.734358</td>\n",
       "      <td>6.0</td>\n",
       "      <td>0</td>\n",
       "      <td>1</td>\n",
       "      <td>1</td>\n",
       "      <td>0</td>\n",
       "      <td>0</td>\n",
       "      <td>1</td>\n",
       "      <td>0</td>\n",
       "    </tr>\n",
       "    <tr>\n",
       "      <th>15670</th>\n",
       "      <td>-0.285910</td>\n",
       "      <td>0.205913</td>\n",
       "      <td>6.0</td>\n",
       "      <td>1</td>\n",
       "      <td>0</td>\n",
       "      <td>1</td>\n",
       "      <td>0</td>\n",
       "      <td>1</td>\n",
       "      <td>0</td>\n",
       "      <td>0</td>\n",
       "    </tr>\n",
       "  </tbody>\n",
       "</table>\n",
       "</div>"
      ],
      "text/plain": [
       "           city  city_development_index  experience  gender_Female  \\\n",
       "17855 -1.276746               -1.672102        11.0              0   \n",
       "17664  0.489526                0.734358         6.0              0   \n",
       "13404 -0.652089                0.539240        13.0              0   \n",
       "13366  0.489526                0.734358         6.0              0   \n",
       "15670 -0.285910                0.205913         6.0              1   \n",
       "\n",
       "       gender_Male  relevent_experience_Has relevent experience  \\\n",
       "17855            1                                            1   \n",
       "17664            1                                            0   \n",
       "13404            1                                            1   \n",
       "13366            1                                            1   \n",
       "15670            0                                            1   \n",
       "\n",
       "       relevent_experience_No relevent experience  \\\n",
       "17855                                           0   \n",
       "17664                                           1   \n",
       "13404                                           0   \n",
       "13366                                           0   \n",
       "15670                                           0   \n",
       "\n",
       "       enrolled_university_Full time course  \\\n",
       "17855                                     0   \n",
       "17664                                     0   \n",
       "13404                                     0   \n",
       "13366                                     0   \n",
       "15670                                     1   \n",
       "\n",
       "       enrolled_university_no_enrollment  company_type_Early Stage Startup  \n",
       "17855                                  1                                 0  \n",
       "17664                                  1                                 0  \n",
       "13404                                  1                                 0  \n",
       "13366                                  1                                 0  \n",
       "15670                                  0                                 0  "
      ]
     },
     "execution_count": 46,
     "metadata": {},
     "output_type": "execute_result"
    }
   ],
   "source": [
    "X_train.head()"
   ]
  },
  {
   "cell_type": "code",
   "execution_count": 54,
   "metadata": {},
   "outputs": [],
   "source": [
    "models = Pipeline([\n",
    "    ('clf', None), \n",
    "])\n",
    "\n",
    "search = GridSearchCV(\n",
    "    models, \n",
    "    cv=3, \n",
    "    return_train_score=False, \n",
    "    scoring=['accuracy', 'recall', 'f1'],\n",
    "    refit = 'f1',\n",
    "    param_grid={\n",
    "        'clf': [GaussianNB(),DecisionTreeClassifier(), RandomForestClassifier(), LogisticRegression()]        \n",
    "})"
   ]
  },
  {
   "cell_type": "code",
   "execution_count": 55,
   "metadata": {},
   "outputs": [
    {
     "name": "stdout",
     "output_type": "stream",
     "text": [
      "Best model: {'clf': GaussianNB()}\n"
     ]
    },
    {
     "name": "stderr",
     "output_type": "stream",
     "text": [
      "/anaconda3/lib/python3.7/site-packages/sklearn/linear_model/_logistic.py:765: ConvergenceWarning: lbfgs failed to converge (status=1):\n",
      "STOP: TOTAL NO. of ITERATIONS REACHED LIMIT.\n",
      "\n",
      "Increase the number of iterations (max_iter) or scale the data as shown in:\n",
      "    https://scikit-learn.org/stable/modules/preprocessing.html\n",
      "Please also refer to the documentation for alternative solver options:\n",
      "    https://scikit-learn.org/stable/modules/linear_model.html#logistic-regression\n",
      "  extra_warning_msg=_LOGISTIC_SOLVER_CONVERGENCE_MSG)\n",
      "/anaconda3/lib/python3.7/site-packages/sklearn/linear_model/_logistic.py:765: ConvergenceWarning: lbfgs failed to converge (status=1):\n",
      "STOP: TOTAL NO. of ITERATIONS REACHED LIMIT.\n",
      "\n",
      "Increase the number of iterations (max_iter) or scale the data as shown in:\n",
      "    https://scikit-learn.org/stable/modules/preprocessing.html\n",
      "Please also refer to the documentation for alternative solver options:\n",
      "    https://scikit-learn.org/stable/modules/linear_model.html#logistic-regression\n",
      "  extra_warning_msg=_LOGISTIC_SOLVER_CONVERGENCE_MSG)\n",
      "/anaconda3/lib/python3.7/site-packages/sklearn/linear_model/_logistic.py:765: ConvergenceWarning: lbfgs failed to converge (status=1):\n",
      "STOP: TOTAL NO. of ITERATIONS REACHED LIMIT.\n",
      "\n",
      "Increase the number of iterations (max_iter) or scale the data as shown in:\n",
      "    https://scikit-learn.org/stable/modules/preprocessing.html\n",
      "Please also refer to the documentation for alternative solver options:\n",
      "    https://scikit-learn.org/stable/modules/linear_model.html#logistic-regression\n",
      "  extra_warning_msg=_LOGISTIC_SOLVER_CONVERGENCE_MSG)\n"
     ]
    },
    {
     "data": {
      "text/html": [
       "<div>\n",
       "<style scoped>\n",
       "    .dataframe tbody tr th:only-of-type {\n",
       "        vertical-align: middle;\n",
       "    }\n",
       "\n",
       "    .dataframe tbody tr th {\n",
       "        vertical-align: top;\n",
       "    }\n",
       "\n",
       "    .dataframe thead th {\n",
       "        text-align: right;\n",
       "    }\n",
       "</style>\n",
       "<table border=\"1\" class=\"dataframe\">\n",
       "  <thead>\n",
       "    <tr style=\"text-align: right;\">\n",
       "      <th></th>\n",
       "      <th>mean_fit_time</th>\n",
       "      <th>std_fit_time</th>\n",
       "      <th>mean_score_time</th>\n",
       "      <th>std_score_time</th>\n",
       "      <th>param_clf</th>\n",
       "      <th>params</th>\n",
       "      <th>split0_test_accuracy</th>\n",
       "      <th>split1_test_accuracy</th>\n",
       "      <th>split2_test_accuracy</th>\n",
       "      <th>mean_test_accuracy</th>\n",
       "      <th>...</th>\n",
       "      <th>split2_test_recall</th>\n",
       "      <th>mean_test_recall</th>\n",
       "      <th>std_test_recall</th>\n",
       "      <th>rank_test_recall</th>\n",
       "      <th>split0_test_f1</th>\n",
       "      <th>split1_test_f1</th>\n",
       "      <th>split2_test_f1</th>\n",
       "      <th>mean_test_f1</th>\n",
       "      <th>std_test_f1</th>\n",
       "      <th>rank_test_f1</th>\n",
       "    </tr>\n",
       "  </thead>\n",
       "  <tbody>\n",
       "    <tr>\n",
       "      <th>0</th>\n",
       "      <td>0.006322</td>\n",
       "      <td>0.000643</td>\n",
       "      <td>0.008429</td>\n",
       "      <td>0.000594</td>\n",
       "      <td>GaussianNB()</td>\n",
       "      <td>{'clf': GaussianNB()}</td>\n",
       "      <td>0.709924</td>\n",
       "      <td>0.719906</td>\n",
       "      <td>0.721809</td>\n",
       "      <td>0.717213</td>\n",
       "      <td>...</td>\n",
       "      <td>0.501952</td>\n",
       "      <td>0.461681</td>\n",
       "      <td>0.028482</td>\n",
       "      <td>1</td>\n",
       "      <td>0.426471</td>\n",
       "      <td>0.443840</td>\n",
       "      <td>0.475065</td>\n",
       "      <td>0.448458</td>\n",
       "      <td>0.020105</td>\n",
       "      <td>1</td>\n",
       "    </tr>\n",
       "    <tr>\n",
       "      <th>1</th>\n",
       "      <td>0.019308</td>\n",
       "      <td>0.002895</td>\n",
       "      <td>0.011304</td>\n",
       "      <td>0.003428</td>\n",
       "      <td>DecisionTreeClassifier()</td>\n",
       "      <td>{'clf': DecisionTreeClassifier()}</td>\n",
       "      <td>0.740849</td>\n",
       "      <td>0.741241</td>\n",
       "      <td>0.727095</td>\n",
       "      <td>0.736395</td>\n",
       "      <td>...</td>\n",
       "      <td>0.353630</td>\n",
       "      <td>0.359581</td>\n",
       "      <td>0.006610</td>\n",
       "      <td>3</td>\n",
       "      <td>0.410508</td>\n",
       "      <td>0.410348</td>\n",
       "      <td>0.393913</td>\n",
       "      <td>0.404923</td>\n",
       "      <td>0.007785</td>\n",
       "      <td>3</td>\n",
       "    </tr>\n",
       "    <tr>\n",
       "      <th>2</th>\n",
       "      <td>0.554021</td>\n",
       "      <td>0.014102</td>\n",
       "      <td>0.078275</td>\n",
       "      <td>0.000803</td>\n",
       "      <td>RandomForestClassifier()</td>\n",
       "      <td>{'clf': RandomForestClassifier()}</td>\n",
       "      <td>0.752398</td>\n",
       "      <td>0.747700</td>\n",
       "      <td>0.740995</td>\n",
       "      <td>0.747031</td>\n",
       "      <td>...</td>\n",
       "      <td>0.374707</td>\n",
       "      <td>0.377912</td>\n",
       "      <td>0.007289</td>\n",
       "      <td>2</td>\n",
       "      <td>0.434004</td>\n",
       "      <td>0.426346</td>\n",
       "      <td>0.420499</td>\n",
       "      <td>0.426950</td>\n",
       "      <td>0.005530</td>\n",
       "      <td>2</td>\n",
       "    </tr>\n",
       "    <tr>\n",
       "      <th>3</th>\n",
       "      <td>0.070641</td>\n",
       "      <td>0.000797</td>\n",
       "      <td>0.006806</td>\n",
       "      <td>0.000124</td>\n",
       "      <td>LogisticRegression()</td>\n",
       "      <td>{'clf': LogisticRegression()}</td>\n",
       "      <td>0.764925</td>\n",
       "      <td>0.759640</td>\n",
       "      <td>0.769969</td>\n",
       "      <td>0.764844</td>\n",
       "      <td>...</td>\n",
       "      <td>0.264637</td>\n",
       "      <td>0.248889</td>\n",
       "      <td>0.013899</td>\n",
       "      <td>4</td>\n",
       "      <td>0.343357</td>\n",
       "      <td>0.326754</td>\n",
       "      <td>0.365893</td>\n",
       "      <td>0.345335</td>\n",
       "      <td>0.016039</td>\n",
       "      <td>4</td>\n",
       "    </tr>\n",
       "  </tbody>\n",
       "</table>\n",
       "<p>4 rows × 24 columns</p>\n",
       "</div>"
      ],
      "text/plain": [
       "   mean_fit_time  std_fit_time  mean_score_time  std_score_time  \\\n",
       "0       0.006322      0.000643         0.008429        0.000594   \n",
       "1       0.019308      0.002895         0.011304        0.003428   \n",
       "2       0.554021      0.014102         0.078275        0.000803   \n",
       "3       0.070641      0.000797         0.006806        0.000124   \n",
       "\n",
       "                  param_clf                             params  \\\n",
       "0              GaussianNB()              {'clf': GaussianNB()}   \n",
       "1  DecisionTreeClassifier()  {'clf': DecisionTreeClassifier()}   \n",
       "2  RandomForestClassifier()  {'clf': RandomForestClassifier()}   \n",
       "3      LogisticRegression()      {'clf': LogisticRegression()}   \n",
       "\n",
       "   split0_test_accuracy  split1_test_accuracy  split2_test_accuracy  \\\n",
       "0              0.709924              0.719906              0.721809   \n",
       "1              0.740849              0.741241              0.727095   \n",
       "2              0.752398              0.747700              0.740995   \n",
       "3              0.764925              0.759640              0.769969   \n",
       "\n",
       "   mean_test_accuracy  ...  split2_test_recall  mean_test_recall  \\\n",
       "0            0.717213  ...            0.501952          0.461681   \n",
       "1            0.736395  ...            0.353630          0.359581   \n",
       "2            0.747031  ...            0.374707          0.377912   \n",
       "3            0.764844  ...            0.264637          0.248889   \n",
       "\n",
       "   std_test_recall  rank_test_recall  split0_test_f1  split1_test_f1  \\\n",
       "0         0.028482                 1        0.426471        0.443840   \n",
       "1         0.006610                 3        0.410508        0.410348   \n",
       "2         0.007289                 2        0.434004        0.426346   \n",
       "3         0.013899                 4        0.343357        0.326754   \n",
       "\n",
       "   split2_test_f1  mean_test_f1  std_test_f1  rank_test_f1  \n",
       "0        0.475065      0.448458     0.020105             1  \n",
       "1        0.393913      0.404923     0.007785             3  \n",
       "2        0.420499      0.426950     0.005530             2  \n",
       "3        0.365893      0.345335     0.016039             4  \n",
       "\n",
       "[4 rows x 24 columns]"
      ]
     },
     "execution_count": 55,
     "metadata": {},
     "output_type": "execute_result"
    }
   ],
   "source": [
    "search.fit(X_train,y_train)\n",
    "\n",
    "print('Best model:', search.best_params_)\n",
    "model_comparison = pd.DataFrame(search.cv_results_)\n",
    "model_comparison"
   ]
  },
  {
   "cell_type": "code",
   "execution_count": 56,
   "metadata": {},
   "outputs": [
    {
     "data": {
      "image/png": "[encoded data removed]",
      "text/plain": [
       "<Figure size 720x360 with 1 Axes>"
      ]
     },
     "metadata": {
      "needs_background": "light"
     },
     "output_type": "display_data"
    }
   ],
   "source": [
    "model_comparison['model'] = ['Naive Bayes','Decision Tree', 'Random Forest', 'Logistic Regression']\n",
    "\n",
    "fig, ax = plt.subplots(figsize=(10,5))\n",
    "ax = sns.barplot('model', 'mean_test_accuracy', data=model_comparison, capsize=.05, palette='Blues', ci=None)\n",
    "ax.set_xlabel(\"Models\",fontsize=12)\n",
    "ax.set_ylabel(\"Accuracy (%)\",fontsize=12)\n",
    "ax.tick_params(labelsize=12)\n",
    "ax.axes.set_title(\"Accuracy Between Models\", fontsize=12)\n",
    "\n",
    "plt.show()"
   ]
  },
  {
   "cell_type": "code",
   "execution_count": 61,
   "metadata": {},
   "outputs": [
    {
     "name": "stdout",
     "output_type": "stream",
     "text": [
      "The Accuracy Score of Logistic Regression is: 72.44258872651356%\n",
      "The Confusion Matrix for Logistic Regression is: \n",
      "[[2593  284]\n",
      " [ 772  183]]\n",
      "\n",
      "\n",
      "\n",
      "              precision    recall  f1-score   support\n",
      "\n",
      "         0.0       0.77      0.90      0.83      2877\n",
      "         1.0       0.39      0.19      0.26       955\n",
      "\n",
      "    accuracy                           0.72      3832\n",
      "   macro avg       0.58      0.55      0.54      3832\n",
      "weighted avg       0.68      0.72      0.69      3832\n",
      "\n"
     ]
    }
   ],
   "source": [
    "# DECISION TREE\n",
    "from sklearn.tree import DecisionTreeClassifier\n",
    "tree = DecisionTreeClassifier()\n",
    "tree.fit(X_train, y_train)\n",
    "prediction_dt = tree.predict(X_test)\n",
    "print(\"The Accuracy Score of Logistic Regression is: {}%\".format(accuracy_score(y_test, prediction_dt)*100))\n",
    "print(\"The Confusion Matrix for Logistic Regression is: \\n{}\\n\".format(confusion_matrix(y_test, prediction_dt)))\n",
    "print('\\n')\n",
    "print(classification_report(y_test, prediction_dt))"
   ]
  },
  {
   "cell_type": "code",
   "execution_count": 60,
   "metadata": {},
   "outputs": [
    {
     "name": "stdout",
     "output_type": "stream",
     "text": [
      "The Accuracy Score of Logistic Regression is: 74.26931106471815%\n",
      "The Confusion Matrix for Logistic Regression is: \n",
      "[[2661  216]\n",
      " [ 770  185]]\n",
      "\n",
      "\n",
      "\n",
      "              precision    recall  f1-score   support\n",
      "\n",
      "         0.0       0.78      0.92      0.84      2877\n",
      "         1.0       0.46      0.19      0.27       955\n",
      "\n",
      "    accuracy                           0.74      3832\n",
      "   macro avg       0.62      0.56      0.56      3832\n",
      "weighted avg       0.70      0.74      0.70      3832\n",
      "\n"
     ]
    }
   ],
   "source": [
    "# RANDOM FOREST\n",
    "from sklearn.ensemble import RandomForestClassifier\n",
    "forest = RandomForestClassifier()\n",
    "forest.fit(X_train, y_train)\n",
    "prediction_rf = forest.predict(X_test)\n",
    "\n",
    "print(\"The Accuracy Score of Logistic Regression is: {}%\".format(accuracy_score(y_test, prediction_rf)*100))\n",
    "print(\"The Confusion Matrix for Logistic Regression is: \\n{}\\n\".format(confusion_matrix(y_test, prediction_rf)))\n",
    "print('\\n')\n",
    "print(classification_report(y_test, prediction_rf))\n"
   ]
  },
  {
   "cell_type": "code",
   "execution_count": 59,
   "metadata": {},
   "outputs": [
    {
     "name": "stdout",
     "output_type": "stream",
     "text": [
      "The Accuracy Score of Logistic Regression is: 76.90501043841336%\n",
      "The Confusion Matrix for Logistic Regression is: \n",
      "[[2705  172]\n",
      " [ 713  242]]\n",
      "\n",
      "\n",
      "\n",
      "              precision    recall  f1-score   support\n",
      "\n",
      "         0.0       0.79      0.94      0.86      2877\n",
      "         1.0       0.58      0.25      0.35       955\n",
      "\n",
      "    accuracy                           0.77      3832\n",
      "   macro avg       0.69      0.60      0.61      3832\n",
      "weighted avg       0.74      0.77      0.73      3832\n",
      "\n"
     ]
    }
   ],
   "source": [
    "from sklearn.linear_model import LogisticRegression\n",
    "log = LogisticRegression(max_iter = 300)\n",
    "log.fit(X_train, y_train)\n",
    "y_pred_log = log.predict(X_test)\n",
    "print(\"The Accuracy Score of Logistic Regression is: {}%\".format(accuracy_score(y_test, y_pred_log)*100))\n",
    "print(\"The Confusion Matrix for Logistic Regression is: \\n{}\\n\".format(confusion_matrix(y_test, y_pred_log)))\n",
    "print('\\n')\n",
    "print(classification_report(y_test, y_pred_log))\n"
   ]
  },
  {
   "cell_type": "code",
   "execution_count": null,
   "metadata": {},
   "outputs": [],
   "source": []
  }
 ],
 "metadata": {
  "kernelspec": {
   "display_name": "Python 3",
   "language": "python",
   "name": "python3"
  },
  "language_info": {
   "codemirror_mode": {
    "name": "ipython",
    "version": 3
   },
   "file_extension": ".py",
   "mimetype": "text/x-python",
   "name": "python",
   "nbconvert_exporter": "python",
   "pygments_lexer": "ipython3",
   "version": "3.7.3"
  }
 },
 "nbformat": 4,
 "nbformat_minor": 2
}
